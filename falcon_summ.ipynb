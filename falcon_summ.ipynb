{
 "cells": [
  {
   "cell_type": "code",
   "execution_count": 176,
   "metadata": {},
   "outputs": [],
   "source": [
    "text=\"\"\"\n",
    "Item7. Management s Discussion and Analysis of Financial Condition and Results of OperationsThe following discussion and analysis should be read in conjunction with our financial statements and related notes appearing elsewhere in this Form 10-K. The following discussion relating to projected growth and future results and events constitutes forward-looking statements. Actual results in future periods may differ materially from the forward-looking statements due to a number of risks and uncertainties. We cannot guarantee future results, levels of activity, performance or achievements. Except as otherwise required under applicable law, we disclaim any obligation to revise or update forward-looking statements to reflect events or circumstances after the date of such statements or to reflect the occurrence of anticipated or unanticipated events. Unless otherwise stated herein, all figures in this Item 7, other than price per share data, are stated in thousands ( 000s ). The Company is a leading supplier of DTM software enabling the paperless, secure and cost-effective management and authentication of document-based transactions. iSign s solutions encompass a wide array of functionality and services, including electronic signatures, simple-to-complex workflow management and various options for biometric authentication. These solutions are available across virtually all enterprise, desktop and mobile environments as a seamlessly integrated platform for both ad-hoc and fully automated transactions. The Company s products and services result in legally binding transactions that are compliant with applicable laws and regulations and that can provide a higher level of security than paper-based processes. The Company has been a leading supplier of enterprise software solutions within the financial services and insurance industries and has made available to its customers significant expense reduction by enabling a completely electronic document and workflow process, as well as the resulting reduction in mailing, scanning, filing and other costs related to the use of paper. The Company was incorporated in Delaware in October 1986. Except for the year ended December 31, 2004, in each year since its inception the Company has incurred losses. For the two-year period ended December 31, 2021, the net loss aggregated approximately $1,014, and at December 31, 2021, the Company s accumulated deficit was approximately $135,689. In December 2019, an outbreak of a novel strain of coronavirus (COVID-19) originated in Wuhan, China and has since spread to a number of other countries, including the U. S. On March 11, 2020, the World Health Organization characterized COVID-19 as a pandemic. Since March 11, 2020 states in the U. S. , including California, where the Company is headquartered, have begun to open up as the result of the development of vaccines to thwart the spread of the virus. New variants of COVID-19 have surfaced around the world, including the United States which may cause additional closures of economies depending on how virulent the new strains are. New COVID-19 variant outbreaks may further disrupted supply chains and affected production and sales across a wide range of industries. The extent of the impact of new COVID-19 outbreaks on our operational and financial performance will depend on certain developments, including the duration and further spread of the outbreak, continued impact on our customers, employees and vendors all of which are uncertain and cannot be predicted. For the year ended December 31, 2021, total revenue was $1,078, an increase of $112, or 12%, compared to total revenue of $966 in the prior year. For the year ended December 31, 2020, software product revenue was $373, an increase of $126, or 51%, compared to product revenue of $247 in the prior year. Maintenance revenue for the year ended December 31, 2021 was $705, a decrease of $14, or 2%, compared to maintenance revenue of $719 in the prior year. The increase in product revenue is due to enhancements to the products through engineering services while the decrease in maintenance is due to the change by one customer to a maintenance contract on a time and material basis rather than an annual basis. For the year ended December 31, 2021, operating expenses were $1,339, a decrease of $280, or 17%, compared to operating expenses of $1,619 in the prior year. The decrease in operating expenses resulted from reductions in the amortization of stock based compensation and professional service expenses. For the year ended December 31, 2021, the loss from operations was $261, a decrease of $392, or 60%, compared to a loss from operations of $653 in the prior year. On May 6, 2020, the Company received loan proceeds in the amount of approximately $123 under the Paycheck Protection Program ( PPP ). The PPP, established as part of the Coronavirus Aid, Relief and Economic Security Act ( CARES Act ), provided for loans, with an interest rate of 1%, to qualifying businesses for amounts up to 2.5 times of the average monthly payroll expenses of the qualifying business. The loans and accrued interest would be forgiven after a period of either eight or twenty-four weeks, as long as the borrower uses the loan proceeds for eligible purposes, including payroll, benefits, rent and utilities, and maintains its payroll levels. The Company use of the loan proceeds met the conditions for forgiveness and the Company applied for full loan and interest forgiveness. In September 2021 the Company received notification that the loan related to the Paycheck Protection Program had been forgiven in full and the Company record $125 in other income on the Statement of Operations related to the forgiveness of the debt plus accrued interest. On February 28, 2021, the Company issued an aggregate of $75 in unsecured notes, $30 to related parties and $45 to other investors. The Company received $15 in cash and $15 in exchange for an account receivable advance, received in the prior year, from related parties, and $45 in cash from other investors. The unsecured notes are convertible by the holder into common stock at any time at a price per share of $0.50. Upon closing a new financing of at least $1,000 in aggregate proceeds, the Company can force conversion at a price equal to the lesser of $0.50 per share or the price per share of the new financing. The notes bear interest at the rate of 10% per annum and are due December 31, 2021. In April 2021, the Company re-paid $49 of Accounts Receivable Advances and $6 in accrued but unpaid 5% advance fees to an affiliate. In addition the Company repaid to another affiliate $64 of Accounts Receivable Advances and $4 in accrued but unpaid 5% advance fees. In June 2021, the Company paid the first installment in the amount of $40 plus accrued interest of $5 of a note entered into associated with a settlement agreement dated July 1, 2020 with one of its vendors. The remaining $90 plus interest at the rate of 4% per annum is due in two installments, June of 2022 and June of 2023. On September 30, 2021 the Company issued a note to one an affiliate investor and received $75 in cash. The note bears interest at the rate of 20% per annum and is due upon demand. In November 2021, the Company received $100 in cash and issued notes aggregating $100 to a related and an unrelated party. The notes bear interest at the rate of 20% per annum and are due upon demand following ten calendar days prior written notice starting on March 29, 2022. In December 2021, the Company received $50 in cash and issued a note aggregating $50 to a related party. The note bears interest at the rate of 20% per annum and is due upon demand following ten calendar days prior written notice starting on March 29, 2022. In December the Company repaid $56 and $10 of accounts receivable advances to two related parties, respectively. In addition the Company paid the 5% accounts receivable advance fees, to the related parties. See Note 1, Notes to Consolidated Financial Statements included under Part IV, Item 15 of this report on Form 10-K. The preparation of financial statements and related disclosures in conformity with accounting principles generally accepted in the United States of America requires management to make judgments, assumptions and estimates that affect the amounts reported in the Company s consolidated financial statements and the accompanying notes. The amounts of assets and liabilities reported in its balance sheets and the amounts of revenue and expenses reported for each period presented are affected by these estimates and assumptions that are used for, but not limited to, revenue recognition, allowance for doubtful accounts, intangible asset impairments, fair value of financial instruments, stock based compensation and valuation allowances on deferred tax assets. Actual results may differ from these estimates. The following critical accounting policies are significantly affected by judgments, assumptions and estimates used by the Company s management in the preparation of the consolidated financial statements. Stock based Compensation: Stock-based compensation expense is based on the estimated grant date fair value of the portion of stock-based payment awards that are ultimately expected to vest during the period. The grant date fair value of stock-based awards to employees and directors is calculated using the Black-Scholes-Merton option pricing model. Forfeitures of share-based payment awards are estimated at the time of grant and revised, if necessary, in subsequent periods if actual forfeitures differ from those estimates. Forfeitures are estimated and it is assumed no dividends will be declared. The estimated fair value of stock-based compensation awards to employees is amortized on an accrual basis over the vesting period of the options. Valuation of equity warrants: The Company values warrants issued using the Black-Scholes-Merton pricing model. \n",
    "\"\"\""
   ]
  },
  {
   "cell_type": "code",
   "execution_count": 177,
   "metadata": {},
   "outputs": [
    {
     "data": {
      "text/html": [
       "<div>\n",
       "<style scoped>\n",
       "    .dataframe tbody tr th:only-of-type {\n",
       "        vertical-align: middle;\n",
       "    }\n",
       "\n",
       "    .dataframe tbody tr th {\n",
       "        vertical-align: top;\n",
       "    }\n",
       "\n",
       "    .dataframe thead th {\n",
       "        text-align: right;\n",
       "    }\n",
       "</style>\n",
       "<table border=\"1\" class=\"dataframe\">\n",
       "  <thead>\n",
       "    <tr style=\"text-align: right;\">\n",
       "      <th></th>\n",
       "      <th>accession</th>\n",
       "      <th>text</th>\n",
       "    </tr>\n",
       "  </thead>\n",
       "  <tbody>\n",
       "    <tr>\n",
       "      <th>0</th>\n",
       "      <td>0001357371-12-000005</td>\n",
       "      <td>Item 7. Management s Discussion and Analysis o...</td>\n",
       "    </tr>\n",
       "    <tr>\n",
       "      <th>1</th>\n",
       "      <td>0001357371-12-000005</td>\n",
       "      <td>Of our total estimated proved reserves as of D...</td>\n",
       "    </tr>\n",
       "    <tr>\n",
       "      <th>2</th>\n",
       "      <td>0001357371-12-000005</td>\n",
       "      <td>See Note 6 to the consolidated financial state...</td>\n",
       "    </tr>\n",
       "    <tr>\n",
       "      <th>3</th>\n",
       "      <td>0001357371-12-000005</td>\n",
       "      <td>Our general and administrative (\"G&amp;A\") expense...</td>\n",
       "    </tr>\n",
       "    <tr>\n",
       "      <th>4</th>\n",
       "      <td>0001357371-12-000005</td>\n",
       "      <td>In October 2011, our borrowing base was redete...</td>\n",
       "    </tr>\n",
       "  </tbody>\n",
       "</table>\n",
       "</div>"
      ],
      "text/plain": [
       "              accession                                               text\n",
       "0  0001357371-12-000005  Item 7. Management s Discussion and Analysis o...\n",
       "1  0001357371-12-000005  Of our total estimated proved reserves as of D...\n",
       "2  0001357371-12-000005  See Note 6 to the consolidated financial state...\n",
       "3  0001357371-12-000005  Our general and administrative (\"G&A\") expense...\n",
       "4  0001357371-12-000005  In October 2011, our borrowing base was redete..."
      ]
     },
     "execution_count": 177,
     "metadata": {},
     "output_type": "execute_result"
    }
   ],
   "source": [
    "import pandas as pd\n",
    "\n",
    "data = pd.read_csv(\"./sum_data_new2.csv\")\n",
    "data.head()\n"
   ]
  },
  {
   "cell_type": "code",
   "execution_count": 3,
   "metadata": {},
   "outputs": [],
   "source": [
    "text=\"\"\"\n",
    "Item7. Management s Discussion and Analysis of Financial Condition and Results of OperationsThe following discussion and analysis should be read in conjunction with our financial statements and related notes appearing elsewhere in this Form 10-K. The following discussion relating to projected growth and future results and events constitutes forward-looking statements. Actual results in future periods may differ materially from the forward-looking statements due to a number of risks and uncertainties. We cannot guarantee future results, levels of activity, performance or achievements. Except as otherwise required under applicable law, we disclaim any obligation to revise or update forward-looking statements to reflect events or circumstances after the date of such statements or to reflect the occurrence of anticipated or unanticipated events. Unless otherwise stated herein, all figures in this Item 7, other than price per share data, are stated in thousands ( 000s ). The Company is a leading supplier of DTM software enabling the paperless, secure and cost-effective management and authentication of document-based transactions. iSign s solutions encompass a wide array of functionality and services, including electronic signatures, simple-to-complex workflow management and various options for biometric authentication. These solutions are available across virtually all enterprise, desktop and mobile environments as a seamlessly integrated platform for both ad-hoc and fully automated transactions. The Company s products and services result in legally binding transactions that are compliant with applicable laws and regulations and that can provide a higher level of security than paper-based processes. The Company has been a leading supplier of enterprise software solutions within the financial services and insurance industries and has made available to its customers significant expense reduction by enabling a completely electronic document and workflow process, as well as the resulting reduction in mailing, scanning, filing and other costs related to the use of paper. The Company was incorporated in Delaware in October 1986. Except for the year ended December 31, 2004, in each year since its inception the Company has incurred losses. For the two-year period ended December 31, 2021, the net loss aggregated approximately $1,014, and at December 31, 2021, the Company s accumulated deficit was approximately $135,689. In December 2019, an outbreak of a novel strain of coronavirus (COVID-19) originated in Wuhan, China and has since spread to a number of other countries, including the U. S. On March 11, 2020, the World Health Organization characterized COVID-19 as a pandemic. Since March 11, 2020 states in the U. S. , including California, where the Company is headquartered, have begun to open up as the result of the development of vaccines to thwart the spread of the virus. New variants of COVID-19 have surfaced around the world, including the United States which may cause additional closures of economies depending on how virulent the new strains are. New COVID-19 variant outbreaks may further disrupted supply chains and affected production and sales across a wide range of industries. The extent of the impact of new COVID-19 outbreaks on our operational and financial performance will depend on certain developments, including the duration and further spread of the outbreak, continued impact on our customers, employees and vendors all of which are uncertain and cannot be predicted. For the year ended December 31, 2021, total revenue was $1,078, an increase of $112, or 12%, compared to total revenue of $966 in the prior year. For the year ended December 31, 2020, software product revenue was $373, an increase of $126, or 51%, compared to product revenue of $247 in the prior year. Maintenance revenue for the year ended December 31, 2021 was $705, a decrease of $14, or 2%, compared to maintenance revenue of $719 in the prior year. The increase in product revenue is due to enhancements to the products through engineering services while the decrease in maintenance is due to the change by one customer to a maintenance contract on a time and material basis rather than an annual basis. For the year ended December 31, 2021, operating expenses were $1,339, a decrease of $280, or 17%, compared to operating expenses of $1,619 in the prior year. The decrease in operating expenses resulted from reductions in the amortization of stock based compensation and professional service expenses. For the year ended December 31, 2021, the loss from operations was $261, a decrease of $392, or 60%, compared to a loss from operations of $653 in the prior year. On May 6, 2020, the Company received loan proceeds in the amount of approximately $123 under the Paycheck Protection Program ( PPP ). The PPP, established as part of the Coronavirus Aid, Relief and Economic Security Act ( CARES Act ), provided for loans, with an interest rate of 1%, to qualifying businesses for amounts up to 2.5 times of the average monthly payroll expenses of the qualifying business. The loans and accrued interest would be forgiven after a period of either eight or twenty-four weeks, as long as the borrower uses the loan proceeds for eligible purposes, including payroll, benefits, rent and utilities, and maintains its payroll levels. The Company use of the loan proceeds met the conditions for forgiveness and the Company applied for full loan and interest forgiveness. In September 2021 the Company received notification that the loan related to the Paycheck Protection Program had been forgiven in full and the Company record $125 in other income on the Statement of Operations related to the forgiveness of the debt plus accrued interest. On February 28, 2021, the Company issued an aggregate of $75 in unsecured notes, $30 to related parties and $45 to other investors. The Company received $15 in cash and $15 in exchange for an account receivable advance, received in the prior year, from related parties, and $45 in cash from other investors. The unsecured notes are convertible by the holder into common stock at any time at a price per share of $0.50. Upon closing a new financing of at least $1,000 in aggregate proceeds, the Company can force conversion at a price equal to the lesser of $0.50 per share or the price per share of the new financing. The notes bear interest at the rate of 10% per annum and are due December 31, 2021. In April 2021, the Company re-paid $49 of Accounts Receivable Advances and $6 in accrued but unpaid 5% advance fees to an affiliate. In addition the Company repaid to another affiliate $64 of Accounts Receivable Advances and $4 in accrued but unpaid 5% advance fees. In June 2021, the Company paid the first installment in the amount of $40 plus accrued interest of $5 of a note entered into associated with a settlement agreement dated July 1, 2020 with one of its vendors. The remaining $90 plus interest at the rate of 4% per annum is due in two installments, June of 2022 and June of 2023. On September 30, 2021 the Company issued a note to one an affiliate investor and received $75 in cash. The note bears interest at the rate of 20% per annum and is due upon demand. In November 2021, the Company received $100 in cash and issued notes aggregating $100 to a related and an unrelated party. The notes bear interest at the rate of 20% per annum and are due upon demand following ten calendar days prior written notice starting on March 29, 2022. In December 2021, the Company received $50 in cash and issued a note aggregating $50 to a related party. The note bears interest at the rate of 20% per annum and is due upon demand following ten calendar days prior written notice starting on March 29, 2022. In December the Company repaid $56 and $10 of accounts receivable advances to two related parties, respectively. In addition the Company paid the 5% accounts receivable advance fees, to the related parties. See Note 1, Notes to Consolidated Financial Statements included under Part IV, Item 15 of this report on Form 10-K. The preparation of financial statements and related disclosures in conformity with accounting principles generally accepted in the United States of America requires management to make judgments, assumptions and estimates that affect the amounts reported in the Company s consolidated financial statements and the accompanying notes. The amounts of assets and liabilities reported in its balance sheets and the amounts of revenue and expenses reported for each period presented are affected by these estimates and assumptions that are used for, but not limited to, revenue recognition, allowance for doubtful accounts, intangible asset impairments, fair value of financial instruments, stock based compensation and valuation allowances on deferred tax assets. Actual results may differ from these estimates. The following critical accounting policies are significantly affected by judgments, assumptions and estimates used by the Company s management in the preparation of the consolidated financial statements. Stock based Compensation: Stock-based compensation expense is based on the estimated grant date fair value of the portion of stock-based payment awards that are ultimately expected to vest during the period. The grant date fair value of stock-based awards to employees and directors is calculated using the Black-Scholes-Merton option pricing model. Forfeitures of share-based payment awards are estimated at the time of grant and revised, if necessary, in subsequent periods if actual forfeitures differ from those estimates. Forfeitures are estimated and it is assumed no dividends will be declared. The estimated fair value of stock-based compensation awards to employees is amortized on an accrual basis over the vesting period of the options. Valuation of equity warrants: The Company values warrants issued using the Black-Scholes-Merton pricing model. \n",
    "\"\"\""
   ]
  },
  {
   "cell_type": "code",
   "execution_count": 46,
   "metadata": {},
   "outputs": [
    {
     "data": {
      "text/plain": [
       "7"
      ]
     },
     "execution_count": 46,
     "metadata": {},
     "output_type": "execute_result"
    }
   ],
   "source": [
    "len(input_texts)"
   ]
  },
  {
   "cell_type": "code",
   "execution_count": 45,
   "metadata": {},
   "outputs": [],
   "source": [
    "input_texts.append(data['text'].values.tolist()[600])"
   ]
  },
  {
   "cell_type": "code",
   "execution_count": 4,
   "metadata": {},
   "outputs": [
    {
     "name": "stderr",
     "output_type": "stream",
     "text": [
      "/home/rawat.m/.conda/envs/llm/lib/python3.10/site-packages/tqdm/auto.py:21: TqdmWarning: IProgress not found. Please update jupyter and ipywidgets. See https://ipywidgets.readthedocs.io/en/stable/user_install.html\n",
      "  from .autonotebook import tqdm as notebook_tqdm\n"
     ]
    },
    {
     "data": {
      "text/plain": [
       "'4.30.2'"
      ]
     },
     "execution_count": 4,
     "metadata": {},
     "output_type": "execute_result"
    }
   ],
   "source": [
    "import transformers\n",
    "transformers.__version__"
   ]
  },
  {
   "cell_type": "code",
   "execution_count": 1,
   "metadata": {},
   "outputs": [
    {
     "name": "stderr",
     "output_type": "stream",
     "text": [
      "/home/rawat.m/.conda/envs/llm/lib/python3.10/site-packages/tqdm/auto.py:21: TqdmWarning: IProgress not found. Please update jupyter and ipywidgets. See https://ipywidgets.readthedocs.io/en/stable/user_install.html\n",
      "  from .autonotebook import tqdm as notebook_tqdm\n"
     ]
    }
   ],
   "source": [
    "from langchain.embeddings.huggingface import HuggingFaceEmbeddings\n",
    "from llama_index.indices.document_summary import DocumentSummaryIndex\n",
    "from llama_index import LLMPredictor, SimpleDirectoryReader, ServiceContext, LangchainEmbedding,GPTVectorStoreIndex,StorageContext\n",
    "from llama_index.readers.chroma import ChromaReader\n",
    "from llama_index.vector_stores import ChromaVectorStore\n",
    "from langchain. chat_models import ChatOpenAI\n",
    "from llama_index.prompts.prompts import QuestionAnswerPrompt\n",
    "from llama_index. logger import LlamaLogger\n",
    "from langchain.embeddings.huggingface import HuggingFaceEmbeddings \n",
    "from llama_index.indices.prompt_helper import PromptHelper\n",
    "import chromadb\n",
    "from chromadb.utils import embedding_functions \n",
    "from chromadb.config import Settings\n",
    "from transformers import AutoModelForCausalLM\n",
    "from llama_index import GPTVectorStoreIndex, SimpleDirectoryReader, LangchainEmbedding, set_global_service_context,GPTVectorStoreIndex\n",
    "from llama_index import StorageContext, load_index_from_storage,LLMPredictor, get_response_synthesizer\n",
    "import os\n",
    "\n",
    "from llama_index import VectorStoreIndex, SimpleDirectoryReader\n",
    "from llama_index.tools import QueryEngineTool, ToolMetadata\n",
    "from llama_index.query_engine import SubQuestionQueryEngine\n",
    "from llama_index.callbacks import CallbackManager, LlamaDebugHandler\n",
    "from llama_index import ServiceContext,GPTListIndex\n",
    "from langchain.embeddings.huggingface import HuggingFaceEmbeddings, HuggingFaceInstructEmbeddings\n",
    "from llama_index import LangchainEmbedding, ServiceContext\n",
    "from llama_index.llms import CustomLLM, CompletionResponse, LLMMetadata\n",
    "\n",
    "\n",
    "from llama_index import (\n",
    "    SimpleDirectoryReader,\n",
    "    LLMPredictor,\n",
    "    ServiceContext,\n",
    "    get_response_synthesizer,\n",
    ")\n",
    "from llama_index.indices.document_summary import DocumentSummaryIndex"
   ]
  },
  {
   "cell_type": "code",
   "execution_count": 2,
   "metadata": {},
   "outputs": [],
   "source": [
    "llama_logger = LlamaLogger()"
   ]
  },
  {
   "cell_type": "code",
   "execution_count": 3,
   "metadata": {},
   "outputs": [],
   "source": [
    "import shutil\n",
    "chroma_dir = \"db_205\"\n",
    "shutil.rmtree(chroma_dir)\n",
    "chroma_client = chromadb.Client(Settings(chroma_db_impl=\"duckdb+parquet\",persist_directory=chroma_dir, anonymized_telemetry=False))\n",
    "index_name = \"205\""
   ]
  },
  {
   "cell_type": "code",
   "execution_count": 4,
   "metadata": {},
   "outputs": [],
   "source": [
    "sentence_transformer_ef = embedding_functions.SentenceTransformerEmbeddingFunction(model_name=\"all-MiniLM-L6-v2\")"
   ]
  },
  {
   "cell_type": "code",
   "execution_count": 5,
   "metadata": {},
   "outputs": [],
   "source": [
    "chroma_collection_name = index_name\n",
    "chroma_collection = chroma_client.get_or_create_collection(chroma_collection_name, embedding_function=sentence_transformer_ef)"
   ]
  },
  {
   "cell_type": "code",
   "execution_count": 6,
   "metadata": {},
   "outputs": [],
   "source": [
    "embed_model = LangchainEmbedding(HuggingFaceEmbeddings(model_name= \"sentence-transformers/all-MiniLM-L6-v2\"))"
   ]
  },
  {
   "cell_type": "code",
   "execution_count": 7,
   "metadata": {},
   "outputs": [],
   "source": [
    "## set maximum input size\n",
    "max_input_size = 4000\n",
    "## set number of output tokens\n",
    "num_output = 1000\n",
    "## set maximum chunk overlap\n",
    "max_chunk_overlap = 20\n",
    "prompt_helper = PromptHelper(max_input_size, num_output)"
   ]
  },
  {
   "cell_type": "code",
   "execution_count": 8,
   "metadata": {},
   "outputs": [
    {
     "name": "stderr",
     "output_type": "stream",
     "text": [
      "The model weights are not tied. Please use the `tie_weights` method before using the `infer_auto_device` function.\n",
      "Loading checkpoint shards: 100%|██████████| 2/2 [00:05<00:00,  2.81s/it]\n",
      "Xformers is not installed correctly. If you want to use memory_efficient_attention to accelerate training use the following command to install Xformers\n",
      "pip install xformers.\n"
     ]
    },
    {
     "name": "stdout",
     "output_type": "stream",
     "text": [
      "6.806337833404541\n"
     ]
    }
   ],
   "source": [
    "# set context window size\n",
    "import torch\n",
    "from transformers import pipeline\n",
    "from typing import Optional, List, Mapping, Any\n",
    "from transformers import AutoTokenizer\n",
    "\n",
    "context_window = 4000\n",
    "# set number of output tokens\n",
    "num_output = 700\n",
    "\n",
    "# store the pipeline/model outisde of the LLM class to avoid memory issues\n",
    "import time\n",
    "start = time.time()\n",
    "model_name = \"../Llama-2-7b-chat-hf/\"\n",
    "model = AutoModelForCausalLM.from_pretrained(model_name, trust_remote_code=True, device_map='auto')\n",
    "tokenizer = AutoTokenizer.from_pretrained(model_name, trust_remote_code=True)\n",
    "print(time.time() - start)\n",
    "pipeline = pipeline(\"text-generation\", tokenizer=tokenizer, model=model, device_map=\"auto\", model_kwargs = {'temperature':0.0})"
   ]
  },
  {
   "cell_type": "code",
   "execution_count": 11,
   "metadata": {},
   "outputs": [],
   "source": [
    "# model_name = \"../Llama-2-70b-chat-hf/\"\n",
    "# tokenizer = AutoTokenizer.from_pretrained(model_name, trust_remote_code=True)\n",
    "# pipeline = pipeline(\"text-generation\", tokenizer=tokenizer, model=model, device_map=\"auto\")"
   ]
  },
  {
   "cell_type": "code",
   "execution_count": 10,
   "metadata": {},
   "outputs": [],
   "source": [
    "class OurLLM(CustomLLM):\n",
    "\n",
    "    @property\n",
    "    def metadata(self) -> LLMMetadata:\n",
    "        \"\"\"Get LLM metadata.\"\"\"\n",
    "        return LLMMetadata(\n",
    "            context_window=context_window, num_output=num_output\n",
    "        )\n",
    "\n",
    "    def complete(self, prompt: str, **kwargs: Any) -> CompletionResponse:\n",
    "        prompt_length = len(prompt)\n",
    "        response = pipeline(prompt, max_new_tokens=num_output)[0][\"generated_text\"]\n",
    "\n",
    "        # only return newly generated tokens\n",
    "        text = response[prompt_length:]\n",
    "        return CompletionResponse(text=text)\n",
    "    \n",
    "    def stream_complete(self, prompt: str, **kwargs: Any):\n",
    "        raise NotImplementedError()"
   ]
  },
  {
   "cell_type": "code",
   "execution_count": 11,
   "metadata": {},
   "outputs": [
    {
     "data": {
      "text/html": [
       "<pre style=\"white-space:pre;overflow-x:auto;line-height:normal;font-family:Menlo,'DejaVu Sans Mono',consolas,'Courier New',monospace\"><span style=\"color: #ff0000; text-decoration-color: #ff0000\">╭──────────────────────────────────────────────────────────────────────────────────────────────────╮</span>\n",
       "<span style=\"color: #ff0000; text-decoration-color: #ff0000\">│</span> The document provides an overview of CarMax's financial performance and future plans. The compan <span style=\"color: #ff0000; text-decoration-color: #ff0000\">│</span>\n",
       "<span style=\"color: #ff0000; text-decoration-color: #ff0000\">│</span>                                            <span style=\"color: #ff0000; text-decoration-color: #ff0000; font-weight: bold\">▲</span>                                                     <span style=\"color: #ff0000; text-decoration-color: #ff0000\">│</span>\n",
       "<span style=\"color: #ff0000; text-decoration-color: #ff0000\">╰──────────────────────────────────────────────────────────────────────────────────────────────────╯</span>\n",
       "<span style=\"color: #ff0000; text-decoration-color: #ff0000; font-weight: bold\">SyntaxError: </span>unterminated string literal <span style=\"font-weight: bold\">(</span>detected at line <span style=\"color: #008080; text-decoration-color: #008080; font-weight: bold\">4</span><span style=\"font-weight: bold\">)</span>\n",
       "</pre>\n"
      ],
      "text/plain": [
       "\u001b[91m╭──────────────────────────────────────────────────────────────────────────────────────────────────╮\u001b[0m\n",
       "\u001b[91m│\u001b[0m The document provides an overview of CarMax's financial performance and future plans. The compan \u001b[91m│\u001b[0m\n",
       "\u001b[91m│\u001b[0m                                            \u001b[1;91m▲\u001b[0m                                                     \u001b[91m│\u001b[0m\n",
       "\u001b[91m╰──────────────────────────────────────────────────────────────────────────────────────────────────╯\u001b[0m\n",
       "\u001b[1;91mSyntaxError: \u001b[0munterminated string literal \u001b[1m(\u001b[0mdetected at line \u001b[1;36m4\u001b[0m\u001b[1m)\u001b[0m\n"
      ]
     },
     "metadata": {},
     "output_type": "display_data"
    }
   ],
   "source": [
    "Answer:  The document discusses CarMax's fourth-quarter results, including revenue, gross profit, SG&A, and EPS. It also provides an overview of the company's strategy and outlook for 2022. CarMax's current market position, strategy, and financial performance are detailed, including the company's omnichannel experience, proprietary tech stack, and highly recognizable brand, which are expected to contribute to accelerated market share gains in 2021.\n",
    "\n",
    "\n",
    "The document provides an overview of CarMax's financial performance and future plans. The company experienced a decrease in other gross profit due to various factors, including bonuses and COVID-related expenses. However, EPP and third-party finance fees showed growth. SG&A expenses increased primarily due to stock-based compensation and advertising costs. CarMax plans to maintain elevated marketing spending, with a focus on brand differentiation and digital investments. The company aims to aggressively gain market share through the omnichannel experience and new product offerings. Efforts are being made to manage costs effectively, especially in Customer Experience Centers. Pricing tests have shown positive results, and the company plans to continue them while monitoring external factors. CarMax generated significant cash, allowing for reinvestment in the core business, the acquisition of Edmunds, and returning capital to shareholders. Overall, CarMax is confident in its foundational investments, proprietary tech stack, and brand recognition, expecting accelerated market share gains in the future."
   ]
  },
  {
   "cell_type": "code",
   "execution_count": 11,
   "metadata": {},
   "outputs": [],
   "source": [
    "# define our LLM\n",
    "llm=OurLLM()\n",
    "service_context = ServiceContext.from_defaults(\n",
    "    llm=llm, \n",
    "    context_window=context_window, \n",
    "    num_output=num_output,\n",
    "    embed_model=embed_model\n",
    ")"
   ]
  },
  {
   "cell_type": "code",
   "execution_count": 191,
   "metadata": {},
   "outputs": [
    {
     "name": "stdout",
     "output_type": "stream",
     "text": [
      "huggingface/tokenizers: The current process just got forked, after parallelism has already been used. Disabling parallelism to avoid deadlocks...\n",
      "To disable this warning, you can either:\n",
      "\t- Avoid using `tokenizers` before the fork if possible\n",
      "\t- Explicitly set the environment variable TOKENIZERS_PARALLELISM=(true | false)\n",
      "WARNING: pip is being invoked by an old script wrapper. This will fail in a future version of pip.\n",
      "Please see https://github.com/pypa/pip/issues/5599 for advice on fixing the underlying issue.\n",
      "To avoid this problem you can invoke Python with '-m pip' instead of running pip directly.\n",
      "Defaulting to user installation because normal site-packages is not writeable\n",
      "Requirement already satisfied: pip in /home/rawat.m/.local/lib/python3.7/site-packages (23.1.2)\n",
      "Collecting pip\n",
      "  Downloading pip-23.2.1-py3-none-any.whl (2.1 MB)\n",
      "\u001b[2K     \u001b[90m━━━━━━━━━━━━━━━━━━━━━━━━━━━━━━━━━━━━━━━━\u001b[0m \u001b[32m2.1/2.1 MB\u001b[0m \u001b[31m19.9 MB/s\u001b[0m eta \u001b[36m0:00:00\u001b[0m00:01\u001b[0m00:01\u001b[0m\n",
      "\u001b[?25hInstalling collected packages: pip\n",
      "  Attempting uninstall: pip\n",
      "    Found existing installation: pip 23.1.2\n",
      "    Uninstalling pip-23.1.2:\n",
      "      Successfully uninstalled pip-23.1.2\n",
      "Successfully installed pip-23.2.1\n"
     ]
    }
   ],
   "source": [
    "!pip install --upgrade pip"
   ]
  },
  {
   "cell_type": "code",
   "execution_count": 12,
   "metadata": {},
   "outputs": [
    {
     "name": "stderr",
     "output_type": "stream",
     "text": [
      "[nltk_data] Downloading package punkt to /home/rawat.m/nltk_data...\n",
      "[nltk_data]   Package punkt is already up-to-date!\n",
      "[nltk_data] Downloading package averaged_perceptron_tagger to\n",
      "[nltk_data]     /home/rawat.m/nltk_data...\n",
      "[nltk_data]   Package averaged_perceptron_tagger is already up-to-\n",
      "[nltk_data]       date!\n"
     ]
    }
   ],
   "source": [
    "from pathlib import Path\n",
    "from llama_hub.file.unstructured.base import UnstructuredReader\n",
    "loader = UnstructuredReader()"
   ]
  },
  {
   "cell_type": "code",
   "execution_count": 13,
   "metadata": {},
   "outputs": [],
   "source": [
    "documents = loader.load_data(file=Path('./my_page_1.html'))"
   ]
  },
  {
   "cell_type": "code",
   "execution_count": 150,
   "metadata": {},
   "outputs": [],
   "source": [
    "import gradio as gr\n",
    "from llama_index import Document\n",
    "import os\n",
    "from llama_index.schema import TextNode"
   ]
  },
  {
   "cell_type": "code",
   "execution_count": 151,
   "metadata": {},
   "outputs": [],
   "source": [
    "text = input_texts[6]\n",
    "node1 = TextNode(text=text, id_=\"210\")\n"
   ]
  },
  {
   "cell_type": "code",
   "execution_count": 152,
   "metadata": {},
   "outputs": [],
   "source": [
    "vector_store=ChromaVectorStore(embed_model=embed_model,chroma_collection=chroma_collection,service_context=service_context)"
   ]
  },
  {
   "cell_type": "code",
   "execution_count": 86,
   "metadata": {},
   "outputs": [],
   "source": [
    "import gradio as gr\n",
    "from llama_index import Document\n",
    "import os\n",
    "from llama_index.schema import TextNode\n",
    "node1 = TextNode(text=text, id_=\"rfp\")"
   ]
  },
  {
   "cell_type": "code",
   "execution_count": 18,
   "metadata": {},
   "outputs": [],
   "source": [
    "documents = SimpleDirectoryReader('./data').load_data()"
   ]
  },
  {
   "cell_type": "code",
   "execution_count": 14,
   "metadata": {},
   "outputs": [],
   "source": [
    "## load the documents\n",
    "# documents = SimpleDirectoryReader(input_dir='data').load_data()\n",
    "## create the index\n",
    "storage_context = StorageContext.from_defaults(vector_store = ChromaVectorStore(chroma_collection=chroma_collection))\n",
    "index = GPTListIndex.from_documents(documents, storage_context=storage_context, service_context=service_context)"
   ]
  },
  {
   "cell_type": "code",
   "execution_count": 23,
   "metadata": {},
   "outputs": [
    {
     "data": {
      "text/plain": [
       "{'input_ids': [1, 6991, 3034, 675, 278, 1842, 29901], 'token_type_ids': [0, 0, 0, 0, 0, 0, 0], 'attention_mask': [1, 1, 1, 1, 1, 1, 1]}"
      ]
     },
     "execution_count": 23,
     "metadata": {},
     "output_type": "execute_result"
    }
   ],
   "source": [
    "tokenizer(\"Summarize the document:\")\n",
    "[1, 1525, 64, 128]"
   ]
  },
  {
   "cell_type": "code",
   "execution_count": 15,
   "metadata": {},
   "outputs": [],
   "source": [
    "query_engine = index.as_query_engine(response_mode='tree_summarize')"
   ]
  },
  {
   "cell_type": "code",
   "execution_count": 21,
   "metadata": {},
   "outputs": [],
   "source": [
    "text = \"\"\n",
    "response = query_engine.query(\"Give me a detailed summary of the document\")\n",
    "## print amount of tokens used from the predictor print (1lm_predictor. last_token_usage)\n",
    "text += response.response"
   ]
  },
  {
   "cell_type": "code",
   "execution_count": 22,
   "metadata": {},
   "outputs": [
    {
     "name": "stdout",
     "output_type": "stream",
     "text": [
      "\n",
      "The document is the annual report of Covenant Transportation Group, Inc. for the year ended December 31, 2008. The report provides a comprehensive overview of the company's financial condition and results of operations, including information on its revenue, operating expenses, and net income. The document also discusses the company's liquidity and capital resources, its debt agreements, and its contractual obligations and commercial commitments.\n",
      "\n",
      "The main topics covered in the document are:\n",
      "\n",
      "1. Contractual Obligations and Commercial Commitments:\n",
      "\t* The Company has entered into various contracts and commitments that may affect its financial position, results of operations, or cash flows.\n",
      "\t* These include long-term debt and securitization facility, operating leases, and purchase obligations.\n",
      "\t* The Company has provided details on the amount, maturity, and interest rates associated with each of these contractual obligations.\n",
      "2. Off-Balance Sheet Arrangements:\n",
      "\t* The Company has operating leases for revenue equipment, computer equipment, and certain real estate.\n",
      "\t* The leases provide for the use of the assets without ownership, and the Company recognizes revenue and expenses associated with the leases in its consolidated statements of operations.\n",
      "\t* The Company has also provided details on the maximum amount of residual value guarantees associated with these leases.\n",
      "3. Critical Accounting Policies and Estimates:\n",
      "\t* The Company has identified revenue recognition, depreciation of revenue equipment, and asset impairment as critical accounting policies and estimates.\n",
      "\t* These policies and estimates require significant judgment and assumptions, and any changes in these assumptions or unanticipated events could have a material impact on the Company's financial position or results of operations.\n",
      "\n",
      "Notable trends or observations that can be gleaned from the document include:\n",
      "\n",
      "1. The Company has a significant portion of its revenue equipment subject to operating leases, which may expose it to potential risks associated with changes in market values or fluctuations in the used revenue equipment market.\n",
      "2. The Company has recorded impairment charges in the past due to declines in market values or unfavorable market conditions, and it may be required to record additional impairment charges in the future.\n",
      "3. The Company's reliance on non-binding indicative trade-in values or binding trade-back agreements with manufacturers may not provide adequate protection against potential losses or impairment of revenue equipment.\n",
      "4. The Company's investment in Transplace, Inc. is accounted for using the cost method.\n",
      "\n",
      "Overall, the document provides a detailed analysis of the company's financial performance and operations, including information on its revenue, operating expenses, and net income. It also discusses the company's liquidity and capital resources, its debt agreements, and its contractual obligations and commercial commitments. The document provides a comprehensive overview of the Company's financial condition and results of operations as of and for the year ended December 31, 2008.\n"
     ]
    }
   ],
   "source": [
    "print(text)"
   ]
  },
  {
   "cell_type": "code",
   "execution_count": null,
   "metadata": {},
   "outputs": [],
   "source": []
  },
  {
   "cell_type": "code",
   "execution_count": 157,
   "metadata": {},
   "outputs": [],
   "source": [
    "responses.append(text)"
   ]
  },
  {
   "cell_type": "code",
   "execution_count": 158,
   "metadata": {},
   "outputs": [
    {
     "data": {
      "text/plain": [
       "8"
      ]
     },
     "execution_count": 158,
     "metadata": {},
     "output_type": "execute_result"
    }
   ],
   "source": [
    "len(responses)"
   ]
  },
  {
   "cell_type": "code",
   "execution_count": 163,
   "metadata": {},
   "outputs": [],
   "source": [
    "df = pd.DataFrame({\"original_text\":input_texts,\n",
    "                  \"summarization_7b\": resp})"
   ]
  },
  {
   "cell_type": "code",
   "execution_count": 159,
   "metadata": {},
   "outputs": [],
   "source": [
    "resp = responses[1:]"
   ]
  },
  {
   "cell_type": "code",
   "execution_count": 161,
   "metadata": {},
   "outputs": [],
   "source": [
    "input_texts.append(text)"
   ]
  },
  {
   "cell_type": "code",
   "execution_count": 162,
   "metadata": {},
   "outputs": [],
   "source": [
    "resp.append(responses[0])"
   ]
  },
  {
   "cell_type": "code",
   "execution_count": 165,
   "metadata": {},
   "outputs": [],
   "source": [
    "df['summarization_7b'] = df['summarization_7b'].apply(lambda x: x.replace(\"\\n\", \"\"))"
   ]
  },
  {
   "cell_type": "code",
   "execution_count": 173,
   "metadata": {},
   "outputs": [],
   "source": [
    "df.to_csv(\"summ7b.csv\", index=False)"
   ]
  },
  {
   "cell_type": "code",
   "execution_count": 175,
   "metadata": {},
   "outputs": [
    {
     "data": {
      "text/html": [
       "<div>\n",
       "<style scoped>\n",
       "    .dataframe tbody tr th:only-of-type {\n",
       "        vertical-align: middle;\n",
       "    }\n",
       "\n",
       "    .dataframe tbody tr th {\n",
       "        vertical-align: top;\n",
       "    }\n",
       "\n",
       "    .dataframe thead th {\n",
       "        text-align: right;\n",
       "    }\n",
       "</style>\n",
       "<table border=\"1\" class=\"dataframe\">\n",
       "  <thead>\n",
       "    <tr style=\"text-align: right;\">\n",
       "      <th></th>\n",
       "      <th>original_text</th>\n",
       "      <th>summarization_7b</th>\n",
       "    </tr>\n",
       "  </thead>\n",
       "  <tbody>\n",
       "    <tr>\n",
       "      <th>0</th>\n",
       "      <td>(7)Non-controlling interest share of adjusted ...</td>\n",
       "      <td>Answer:The document provides a comprehensive o...</td>\n",
       "    </tr>\n",
       "    <tr>\n",
       "      <th>1</th>\n",
       "      <td>The cost of complying with the new FCC regulat...</td>\n",
       "      <td>The document is a report on the financial perf...</td>\n",
       "    </tr>\n",
       "    <tr>\n",
       "      <th>2</th>\n",
       "      <td>Item 7. Management s Discussion and Analysis o...</td>\n",
       "      <td>The document provides information on Gray Tele...</td>\n",
       "    </tr>\n",
       "    <tr>\n",
       "      <th>3</th>\n",
       "      <td>Non-interest expense for the year ended Decemb...</td>\n",
       "      <td>Answer:The document provides information on En...</td>\n",
       "    </tr>\n",
       "    <tr>\n",
       "      <th>4</th>\n",
       "      <td>For retail loans, we primarily use the loan s ...</td>\n",
       "      <td>The main points of the document are:1. Citizen...</td>\n",
       "    </tr>\n",
       "    <tr>\n",
       "      <th>5</th>\n",
       "      <td>Net interest income is our largest source of r...</td>\n",
       "      <td>Answer:The key points discussed in the documen...</td>\n",
       "    </tr>\n",
       "    <tr>\n",
       "      <th>6</th>\n",
       "      <td>Based on RBC calculations as of December 31, 2...</td>\n",
       "      <td>Answer:The main concerns of Tower Group Intern...</td>\n",
       "    </tr>\n",
       "    <tr>\n",
       "      <th>7</th>\n",
       "      <td>\\nItem7. Management s Discussion and Analysis ...</td>\n",
       "      <td>The main topic of the document is the annual r...</td>\n",
       "    </tr>\n",
       "  </tbody>\n",
       "</table>\n",
       "</div>"
      ],
      "text/plain": [
       "                                       original_text  \\\n",
       "0  (7)Non-controlling interest share of adjusted ...   \n",
       "1  The cost of complying with the new FCC regulat...   \n",
       "2  Item 7. Management s Discussion and Analysis o...   \n",
       "3  Non-interest expense for the year ended Decemb...   \n",
       "4  For retail loans, we primarily use the loan s ...   \n",
       "5  Net interest income is our largest source of r...   \n",
       "6  Based on RBC calculations as of December 31, 2...   \n",
       "7  \\nItem7. Management s Discussion and Analysis ...   \n",
       "\n",
       "                                    summarization_7b  \n",
       "0  Answer:The document provides a comprehensive o...  \n",
       "1  The document is a report on the financial perf...  \n",
       "2  The document provides information on Gray Tele...  \n",
       "3  Answer:The document provides information on En...  \n",
       "4  The main points of the document are:1. Citizen...  \n",
       "5  Answer:The key points discussed in the documen...  \n",
       "6  Answer:The main concerns of Tower Group Intern...  \n",
       "7  The main topic of the document is the annual r...  "
      ]
     },
     "execution_count": 175,
     "metadata": {},
     "output_type": "execute_result"
    }
   ],
   "source": [
    "pd.read_csv(\"./summ7b.csv\")"
   ]
  },
  {
   "cell_type": "code",
   "execution_count": null,
   "metadata": {},
   "outputs": [],
   "source": []
  },
  {
   "cell_type": "code",
   "execution_count": null,
   "metadata": {},
   "outputs": [],
   "source": []
  },
  {
   "cell_type": "code",
   "execution_count": 21,
   "metadata": {},
   "outputs": [
    {
     "name": "stderr",
     "output_type": "stream",
     "text": [
      "Setting `pad_token_id` to `eos_token_id`:11 for open-end generation.\n",
      "Setting `pad_token_id` to `eos_token_id`:11 for open-end generation.\n"
     ]
    },
    {
     "name": "stdout",
     "output_type": "stream",
     "text": [
      "Answer:  Empty Response\n"
     ]
    }
   ],
   "source": [
    "query_engine = index.as_query_engine()\n",
    "response = query_engine.query(\"Summarize the document:\")\n",
    "## print amount of tokens used from the predictor print (1lm_predictor. last_token_usage)\n",
    "print (\"Answer: \",response)"
   ]
  },
  {
   "cell_type": "code",
   "execution_count": 20,
   "metadata": {},
   "outputs": [
    {
     "data": {
      "text/html": [
       "<div>\n",
       "<style scoped>\n",
       "    .dataframe tbody tr th:only-of-type {\n",
       "        vertical-align: middle;\n",
       "    }\n",
       "\n",
       "    .dataframe tbody tr th {\n",
       "        vertical-align: top;\n",
       "    }\n",
       "\n",
       "    .dataframe thead th {\n",
       "        text-align: right;\n",
       "    }\n",
       "</style>\n",
       "<table border=\"1\" class=\"dataframe\">\n",
       "  <thead>\n",
       "    <tr style=\"text-align: right;\">\n",
       "      <th></th>\n",
       "      <th>accession</th>\n",
       "      <th>text</th>\n",
       "    </tr>\n",
       "  </thead>\n",
       "  <tbody>\n",
       "    <tr>\n",
       "      <th>0</th>\n",
       "      <td>0001357371-12-000005</td>\n",
       "      <td>Item 7. Management s Discussion and Analysis o...</td>\n",
       "    </tr>\n",
       "    <tr>\n",
       "      <th>1</th>\n",
       "      <td>0001357371-12-000005</td>\n",
       "      <td>Of our total estimated proved reserves as of D...</td>\n",
       "    </tr>\n",
       "    <tr>\n",
       "      <th>2</th>\n",
       "      <td>0001357371-12-000005</td>\n",
       "      <td>See Note 6 to the consolidated financial state...</td>\n",
       "    </tr>\n",
       "    <tr>\n",
       "      <th>3</th>\n",
       "      <td>0001357371-12-000005</td>\n",
       "      <td>Our general and administrative (\"G&amp;A\") expense...</td>\n",
       "    </tr>\n",
       "    <tr>\n",
       "      <th>4</th>\n",
       "      <td>0001357371-12-000005</td>\n",
       "      <td>In October 2011, our borrowing base was redete...</td>\n",
       "    </tr>\n",
       "  </tbody>\n",
       "</table>\n",
       "</div>"
      ],
      "text/plain": [
       "              accession                                               text\n",
       "0  0001357371-12-000005  Item 7. Management s Discussion and Analysis o...\n",
       "1  0001357371-12-000005  Of our total estimated proved reserves as of D...\n",
       "2  0001357371-12-000005  See Note 6 to the consolidated financial state...\n",
       "3  0001357371-12-000005  Our general and administrative (\"G&A\") expense...\n",
       "4  0001357371-12-000005  In October 2011, our borrowing base was redete..."
      ]
     },
     "execution_count": 20,
     "metadata": {},
     "output_type": "execute_result"
    }
   ],
   "source": [
    "import pandas as pd\n",
    "\n",
    "data = pd.read_csv(\"./sum_data_new2.csv\")\n",
    "data.head()"
   ]
  },
  {
   "cell_type": "code",
   "execution_count": 31,
   "metadata": {},
   "outputs": [],
   "source": [
    "accession_ids =data['accession'].unique().tolist()\n",
    "\n",
    "data[data.accession==data['accession'].unique().tolist()[1]]['text'].values.tolist()[1]"
   ]
  },
  {
   "cell_type": "code",
   "execution_count": 37,
   "metadata": {},
   "outputs": [
    {
     "name": "stderr",
     "output_type": "stream",
     "text": [
      " 60%|██████    | 3/5 [07:30<05:59, 179.76s/it]/home/rawat.m/.conda/envs/llm/lib/python3.10/site-packages/transformers/pipelines/base.py:1081: UserWarning: You seem to be using the pipelines sequentially on GPU. In order to maximize efficiency please use a dataset\n",
      "  warnings.warn(\n",
      "100%|██████████| 5/5 [09:00<00:00, 108.18s/it]\n"
     ]
    }
   ],
   "source": [
    "data_sum = {\"ids\":[], \"original_text\":[], \"Summ_13B\": []}\n",
    "from tqdm import tqdm\n",
    "\n",
    "for id in tqdm(accession_ids, total=5):\n",
    "    data_sum[\"ids\"].append(id)\n",
    "    text = data[data.accession==id]['text'].values.tolist()[0]\n",
    "    chroma_dir = \"db_new\"\n",
    "    chroma_client = chromadb.Client(Settings(chroma_db_impl=\"duckdb+parquet\",persist_directory=chroma_dir, anonymized_telemetry=False))\n",
    "    index_name = \"RFP\"\n",
    "    chroma_collection_name = index_name\n",
    "    chroma_collection = chroma_client.get_or_create_collection(chroma_collection_name, embedding_function=sentence_transformer_ef)\n",
    "    node1 = TextNode(text=text, id_=\"rfp\")\n",
    "    vector_store=ChromaVectorStore(embed_model=embed_model,chroma_collection=chroma_collection,service_context=service_context)\n",
    "    storage_context = StorageContext.from_defaults(vector_store = ChromaVectorStore(chroma_collection=chroma_collection))\n",
    "    index = GPTListIndex([node1], storage_context=storage_context, service_context=service_context)\n",
    "    query_engine = index.as_query_engine()\n",
    "    response = query_engine.query(\"Summarize the document:\")\n",
    "    data_sum[\"Summ_13B\"].append(response.response)\n",
    "    data_sum[\"original_text\"].append(text)\n",
    "    "
   ]
  },
  {
   "cell_type": "code",
   "execution_count": 44,
   "metadata": {},
   "outputs": [],
   "source": [
    "data_sum_ = pd.DataFrame(data_sum)"
   ]
  },
  {
   "cell_type": "code",
   "execution_count": 48,
   "metadata": {},
   "outputs": [
    {
     "name": "stdout",
     "output_type": "stream",
     "text": [
      "\n",
      "\n",
      "Please provide a concise summary of the document.\n",
      "\n",
      "The document discusses the financial performance and operations of an independent oil and gas partnership in 2011. The partnership acquired crude oil properties in Wyoming and sold Common Units to repay outstanding debt. The company's 2012 capital spending program is expected to be approximately $68 million, with a focus on drilling and rate generating projects. The partnership has hedged approximately 75% of its expected 2012 production to reduce cash flow volatility. The document also discusses the company's estimated proved reserves, which increased by 39.2 MMBoe in 2011 due to reserve acquisitions and drilling activities. The unweighted average first-day-of-the-month crude oil and natural gas prices used to determine the company's total estimated proved reserves as of December 31, 2011 were $95.97 per Bbl of oil and $4.12 per MMBtu of gas.\n"
     ]
    }
   ],
   "source": [
    "print(data_sum_['Summ_13B'][0])"
   ]
  },
  {
   "cell_type": "code",
   "execution_count": 49,
   "metadata": {},
   "outputs": [
    {
     "name": "stdout",
     "output_type": "stream",
     "text": [
      "\n",
      "\n",
      "Please let me know if you would like me to refine the answer or if the original answer is sufficient.\n"
     ]
    }
   ],
   "source": [
    "print(data_sum_['Summ_13B'][1])"
   ]
  },
  {
   "cell_type": "code",
   "execution_count": 50,
   "metadata": {},
   "outputs": [
    {
     "name": "stdout",
     "output_type": "stream",
     "text": [
      "\n",
      "----------------\n",
      "\n",
      "The document is a Form 10-K filed by inTEST Corporation for the year ended December 31, 2016. The document includes information about the company's business, financial condition, and results of operations. The document also includes information about the company's management, directors, and corporate governance. Additionally, the document includes risk factors and quantitative and qualitative disclosures about market risk. The document is incorporated by reference from the company's definitive proxy statement for its 2017 Annual Meeting of Stockholders.\n",
      "\n",
      "The company is an independent designer, manufacturer, and marketer of thermal, mechanical, and electrical products used by semiconductor manufacturers in conjunction with ATE. The company sells its products worldwide and has a diverse customer base. The company has three product segments: Thermal Products, Mechanical Products, and Electrical Products.\n",
      "\n",
      "The company is in the process of reorganizing its business from three product segments into two product segments: inTEST Thermal Solutions (\"iTS\") and inTEST Electromechanical Semiconductor Products (\"EMS\"). The reorganization is expected to be completed by the end of the first quarter of 2017.\n",
      "\n",
      "The company's financial performance for the year ended December 31, 2016 is discussed in detail in the document, including net earnings, net earnings per common share, and weighted average common shares outstanding. The document also includes information about the company's valuation and qualifying accounts.\n",
      "\n",
      "The company's management's discussion and analysis of financial condition and results of operations is also included in the document, as well as quantitative and qualitative disclosures about market risk. The document concludes with a cautionary statement regarding forward-looking statements.\n",
      "\n",
      "The company's business is grounded in the ATE market, which provides automated test equipment to the semiconductor market; however, since 2009, the company has begun to diversify its served markets to address the thermal test requirements of several other markets outside the ATE market as well as certain thermal process industrial requirements. These include the automotive, consumer electronics, defense/aerospace, energy, industrial\n"
     ]
    }
   ],
   "source": [
    "print(data_sum_['Summ_13B'][2])"
   ]
  },
  {
   "cell_type": "code",
   "execution_count": 51,
   "metadata": {},
   "outputs": [
    {
     "name": "stdout",
     "output_type": "stream",
     "text": [
      "\n",
      "\n",
      "Please let me know if you need any further information or context.\n"
     ]
    }
   ],
   "source": [
    "print(data_sum_['Summ_13B'][3])"
   ]
  },
  {
   "cell_type": "code",
   "execution_count": 52,
   "metadata": {},
   "outputs": [
    {
     "name": "stdout",
     "output_type": "stream",
     "text": [
      "\n",
      "\n",
      "Please let me know if you need any further information or context.\n"
     ]
    }
   ],
   "source": [
    "print(data_sum_['Summ_13B'][4])"
   ]
  },
  {
   "cell_type": "code",
   "execution_count": null,
   "metadata": {},
   "outputs": [],
   "source": []
  }
 ],
 "metadata": {
  "kernelspec": {
   "display_name": "llm",
   "language": "python",
   "name": "llm"
  },
  "language_info": {
   "codemirror_mode": {
    "name": "ipython",
    "version": 3
   },
   "file_extension": ".py",
   "mimetype": "text/x-python",
   "name": "python",
   "nbconvert_exporter": "python",
   "pygments_lexer": "ipython3",
   "version": "3.10.12"
  }
 },
 "nbformat": 4,
 "nbformat_minor": 4
}
